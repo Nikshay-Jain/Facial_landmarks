{
 "cells": [
  {
   "cell_type": "markdown",
   "id": "bbcc94d8",
   "metadata": {
    "papermill": {
     "duration": 0.005865,
     "end_time": "2023-10-28T20:55:52.105516",
     "exception": false,
     "start_time": "2023-10-28T20:55:52.099651",
     "status": "completed"
    },
    "tags": []
   },
   "source": [
    "## While execution, only the installation of dependencies take a lot of time but the model is sufficiently efficient in execution, so pls consider the model performance not the time for installation while evaluation."
   ]
  },
  {
   "cell_type": "code",
   "execution_count": 1,
   "id": "edaa0beb",
   "metadata": {
    "_cell_guid": "b1076dfc-b9ad-4769-8c92-a6c4dae69d19",
    "_uuid": "8f2839f25d086af736a60e9eeb907d3b93b6e0e5",
    "execution": {
     "iopub.execute_input": "2023-10-28T20:55:52.117822Z",
     "iopub.status.busy": "2023-10-28T20:55:52.117470Z",
     "iopub.status.idle": "2023-10-28T20:55:52.131596Z",
     "shell.execute_reply": "2023-10-28T20:55:52.130812Z"
    },
    "papermill": {
     "duration": 0.022397,
     "end_time": "2023-10-28T20:55:52.133513",
     "exception": false,
     "start_time": "2023-10-28T20:55:52.111116",
     "status": "completed"
    },
    "tags": []
   },
   "outputs": [
    {
     "name": "stdout",
     "output_type": "stream",
     "text": [
      "/kaggle/input/keypoint-identification-cv-contingent-selections/sample_submission.csv\n",
      "/kaggle/input/keypoint-identification-cv-contingent-selections/training.csv\n",
      "/kaggle/input/keypoint-identification-cv-contingent-selections/test.csv\n"
     ]
    }
   ],
   "source": [
    "import os\n",
    "for dirname, _, filenames in os.walk('/kaggle/input'):\n",
    "    for filename in filenames:\n",
    "        print(os.path.join(dirname, filename))\n",
    "\n",
    "# You can write up to 20GB to the current directory (/kaggle/working/) that gets preserved as output when you create a version using \"Save & Run All\" \n",
    "# You can also write temporary files to /kaggle/temp/, but they won't be saved outside of the current session"
   ]
  },
  {
   "cell_type": "code",
   "execution_count": 2,
   "id": "31cfaf19",
   "metadata": {
    "execution": {
     "iopub.execute_input": "2023-10-28T20:55:52.145267Z",
     "iopub.status.busy": "2023-10-28T20:55:52.145005Z",
     "iopub.status.idle": "2023-10-28T21:03:50.718449Z",
     "shell.execute_reply": "2023-10-28T21:03:50.717432Z"
    },
    "papermill": {
     "duration": 478.581997,
     "end_time": "2023-10-28T21:03:50.720834",
     "exception": false,
     "start_time": "2023-10-28T20:55:52.138837",
     "status": "completed"
    },
    "tags": []
   },
   "outputs": [
    {
     "name": "stdout",
     "output_type": "stream",
     "text": [
      "Collecting dlib\r\n",
      "  Downloading dlib-19.24.2.tar.gz (11.8 MB)\r\n",
      "\u001b[2K     \u001b[90m━━━━━━━━━━━━━━━━━━━━━━━━━━━━━━━━━━━━━━━━\u001b[0m \u001b[32m11.8/11.8 MB\u001b[0m \u001b[31m76.8 MB/s\u001b[0m eta \u001b[36m0:00:00\u001b[0m\r\n",
      "\u001b[?25h  Installing build dependencies ... \u001b[?25l-\b \b\\\b \b|\b \b/\b \b-\b \b\\\b \b|\b \b/\b \bdone\r\n",
      "\u001b[?25h  Getting requirements to build wheel ... \u001b[?25l-\b \b\\\b \bdone\r\n",
      "\u001b[?25h  Preparing metadata (pyproject.toml) ... \u001b[?25l-\b \b\\\b \bdone\r\n",
      "\u001b[?25hBuilding wheels for collected packages: dlib\r\n",
      "  Building wheel for dlib (pyproject.toml) ... \u001b[?25l-\b \b\\\b \b|\b \b/\b \b-\b \b\\\b \b|\b \b/\b \b-\b \b\\\b \b|\b \b/\b \b-\b \b\\\b \b|\b \b/\b \b-\b \b\\\b \b|\b \b/\b \b-\b \b\\\b \b|\b \b/\b \b-\b \b\\\b \b|\b \b/\b \b-\b \b\\\b \b|\b \b/\b \b-\b \b\\\b \b|\b \b/\b \b-\b \b\\\b \b|\b \b/\b \b-\b \b\\\b \b|\b \b/\b \b-\b \b\\\b \b|\b \b/\b \b-\b \b\\\b \b|\b \b/\b \b-\b \b\\\b \b|\b \b/\b \b-\b \b\\\b \b|\b \b/\b \b-\b \b\\\b \b|\b \b/\b \b-\b \b\\\b \b|\b \b/\b \b-\b \b\\\b \b|\b \b/\b \b-\b \b\\\b \b|\b \b/\b \b-\b \b\\\b \b|\b \b/\b \b-\b \b\\\b \b|\b \b/\b \b-\b \b\\\b \b|\b \b/\b \b-\b \b\\\b \b|\b \b/\b \b-\b \b\\\b \b|\b \b/\b \b-\b \b\\\b \bdone\r\n",
      "\u001b[?25h  Created wheel for dlib: filename=dlib-19.24.2-cp310-cp310-linux_x86_64.whl size=3829151 sha256=581ac656dbb6ddf460e779ffb7208bf5678327fbc5c6f909ddbb1cd1940c62bf\r\n",
      "  Stored in directory: /root/.cache/pip/wheels/9b/e2/80/888fdc098db86b463ff0c83ae5e5ca151889e901bc1e9a3a11\r\n",
      "Successfully built dlib\r\n",
      "Installing collected packages: dlib\r\n",
      "Successfully installed dlib-19.24.2\r\n"
     ]
    }
   ],
   "source": [
    "!pip install dlib"
   ]
  },
  {
   "cell_type": "code",
   "execution_count": 3,
   "id": "13972d72",
   "metadata": {
    "execution": {
     "iopub.execute_input": "2023-10-28T21:03:50.752161Z",
     "iopub.status.busy": "2023-10-28T21:03:50.751788Z",
     "iopub.status.idle": "2023-10-28T21:03:53.478687Z",
     "shell.execute_reply": "2023-10-28T21:03:53.477907Z"
    },
    "papermill": {
     "duration": 2.745039,
     "end_time": "2023-10-28T21:03:53.481079",
     "exception": false,
     "start_time": "2023-10-28T21:03:50.736040",
     "status": "completed"
    },
    "tags": []
   },
   "outputs": [],
   "source": [
    "import cv2\n",
    "import dlib\n",
    "import numpy as np\n",
    "import pandas as pd\n",
    "import matplotlib.pyplot as plt"
   ]
  },
  {
   "cell_type": "code",
   "execution_count": 4,
   "id": "101f83d6",
   "metadata": {
    "execution": {
     "iopub.execute_input": "2023-10-28T21:03:53.511584Z",
     "iopub.status.busy": "2023-10-28T21:03:53.511194Z",
     "iopub.status.idle": "2023-10-28T21:03:58.936770Z",
     "shell.execute_reply": "2023-10-28T21:03:58.935984Z"
    },
    "papermill": {
     "duration": 5.443108,
     "end_time": "2023-10-28T21:03:58.939120",
     "exception": false,
     "start_time": "2023-10-28T21:03:53.496012",
     "status": "completed"
    },
    "tags": []
   },
   "outputs": [],
   "source": [
    "train = pd.read_csv(\"/kaggle/input/keypoint-identification-cv-contingent-selections/training.csv\")\n",
    "xtest = pd.read_csv(\"/kaggle/input/keypoint-identification-cv-contingent-selections/test.csv\")\n",
    "ytest = pd.read_csv(\"/kaggle/input/keypoint-identification-cv-contingent-selections/sample_submission.csv\")"
   ]
  },
  {
   "cell_type": "code",
   "execution_count": 5,
   "id": "097266ea",
   "metadata": {
    "execution": {
     "iopub.execute_input": "2023-10-28T21:03:58.970022Z",
     "iopub.status.busy": "2023-10-28T21:03:58.969436Z",
     "iopub.status.idle": "2023-10-28T21:03:58.976230Z",
     "shell.execute_reply": "2023-10-28T21:03:58.975416Z"
    },
    "papermill": {
     "duration": 0.024411,
     "end_time": "2023-10-28T21:03:58.978181",
     "exception": false,
     "start_time": "2023-10-28T21:03:58.953770",
     "status": "completed"
    },
    "tags": []
   },
   "outputs": [],
   "source": [
    "column_names = ytest.columns\n",
    "output = pd.DataFrame(columns=column_names)"
   ]
  },
  {
   "cell_type": "code",
   "execution_count": 6,
   "id": "1d46fc41",
   "metadata": {
    "execution": {
     "iopub.execute_input": "2023-10-28T21:03:59.007614Z",
     "iopub.status.busy": "2023-10-28T21:03:59.007376Z",
     "iopub.status.idle": "2023-10-28T21:03:59.032774Z",
     "shell.execute_reply": "2023-10-28T21:03:59.031850Z"
    },
    "papermill": {
     "duration": 0.042324,
     "end_time": "2023-10-28T21:03:59.034642",
     "exception": false,
     "start_time": "2023-10-28T21:03:58.992318",
     "status": "completed"
    },
    "tags": []
   },
   "outputs": [
    {
     "data": {
      "text/html": [
       "<div>\n",
       "<style scoped>\n",
       "    .dataframe tbody tr th:only-of-type {\n",
       "        vertical-align: middle;\n",
       "    }\n",
       "\n",
       "    .dataframe tbody tr th {\n",
       "        vertical-align: top;\n",
       "    }\n",
       "\n",
       "    .dataframe thead th {\n",
       "        text-align: right;\n",
       "    }\n",
       "</style>\n",
       "<table border=\"1\" class=\"dataframe\">\n",
       "  <thead>\n",
       "    <tr style=\"text-align: right;\">\n",
       "      <th></th>\n",
       "      <th>left_eye_center_x</th>\n",
       "      <th>left_eye_center_y</th>\n",
       "      <th>right_eye_center_x</th>\n",
       "      <th>right_eye_center_y</th>\n",
       "      <th>left_eye_inner_corner_x</th>\n",
       "      <th>left_eye_inner_corner_y</th>\n",
       "      <th>left_eye_outer_corner_x</th>\n",
       "      <th>left_eye_outer_corner_y</th>\n",
       "      <th>right_eye_inner_corner_x</th>\n",
       "      <th>right_eye_inner_corner_y</th>\n",
       "      <th>...</th>\n",
       "      <th>nose_tip_y</th>\n",
       "      <th>mouth_left_corner_x</th>\n",
       "      <th>mouth_left_corner_y</th>\n",
       "      <th>mouth_right_corner_x</th>\n",
       "      <th>mouth_right_corner_y</th>\n",
       "      <th>mouth_center_top_lip_x</th>\n",
       "      <th>mouth_center_top_lip_y</th>\n",
       "      <th>mouth_center_bottom_lip_x</th>\n",
       "      <th>mouth_center_bottom_lip_y</th>\n",
       "      <th>ID</th>\n",
       "    </tr>\n",
       "  </thead>\n",
       "  <tbody>\n",
       "  </tbody>\n",
       "</table>\n",
       "<p>0 rows × 31 columns</p>\n",
       "</div>"
      ],
      "text/plain": [
       "Empty DataFrame\n",
       "Columns: [left_eye_center_x, left_eye_center_y, right_eye_center_x, right_eye_center_y, left_eye_inner_corner_x, left_eye_inner_corner_y, left_eye_outer_corner_x, left_eye_outer_corner_y, right_eye_inner_corner_x, right_eye_inner_corner_y, right_eye_outer_corner_x, right_eye_outer_corner_y, left_eyebrow_inner_end_x, left_eyebrow_inner_end_y, left_eyebrow_outer_end_x, left_eyebrow_outer_end_y, right_eyebrow_inner_end_x, right_eyebrow_inner_end_y, right_eyebrow_outer_end_x, right_eyebrow_outer_end_y, nose_tip_x, nose_tip_y, mouth_left_corner_x, mouth_left_corner_y, mouth_right_corner_x, mouth_right_corner_y, mouth_center_top_lip_x, mouth_center_top_lip_y, mouth_center_bottom_lip_x, mouth_center_bottom_lip_y, ID]\n",
       "Index: []\n",
       "\n",
       "[0 rows x 31 columns]"
      ]
     },
     "execution_count": 6,
     "metadata": {},
     "output_type": "execute_result"
    }
   ],
   "source": [
    "output"
   ]
  },
  {
   "cell_type": "code",
   "execution_count": 7,
   "id": "2da2ae8c",
   "metadata": {
    "execution": {
     "iopub.execute_input": "2023-10-28T21:03:59.065327Z",
     "iopub.status.busy": "2023-10-28T21:03:59.064809Z",
     "iopub.status.idle": "2023-10-28T21:04:00.922560Z",
     "shell.execute_reply": "2023-10-28T21:04:00.921566Z"
    },
    "papermill": {
     "duration": 1.875584,
     "end_time": "2023-10-28T21:04:00.925130",
     "exception": false,
     "start_time": "2023-10-28T21:03:59.049546",
     "status": "completed"
    },
    "tags": []
   },
   "outputs": [
    {
     "name": "stdout",
     "output_type": "stream",
     "text": [
      "--2023-10-28 21:03:59--  https://github.com/JeffTrain/selfie/raw/master/shape_predictor_68_face_landmarks.dat\r\n",
      "Resolving github.com (github.com)... 140.82.112.4\r\n",
      "Connecting to github.com (github.com)|140.82.112.4|:443... connected.\r\n",
      "HTTP request sent, awaiting response... 302 Found\r\n",
      "Location: https://raw.githubusercontent.com/JeffTrain/selfie/master/shape_predictor_68_face_landmarks.dat [following]\r\n",
      "--2023-10-28 21:04:00--  https://raw.githubusercontent.com/JeffTrain/selfie/master/shape_predictor_68_face_landmarks.dat\r\n",
      "Resolving raw.githubusercontent.com (raw.githubusercontent.com)... 185.199.108.133, 185.199.109.133, 185.199.110.133, ...\r\n",
      "Connecting to raw.githubusercontent.com (raw.githubusercontent.com)|185.199.108.133|:443... connected.\r\n",
      "HTTP request sent, awaiting response... 200 OK\r\n",
      "Length: 99693937 (95M) [application/octet-stream]\r\n",
      "Saving to: ‘shape_predictor_68_face_landmarks.dat’\r\n",
      "\r\n",
      "shape_predictor_68_ 100%[===================>]  95.08M   250MB/s    in 0.4s    \r\n",
      "\r\n",
      "2023-10-28 21:04:00 (250 MB/s) - ‘shape_predictor_68_face_landmarks.dat’ saved [99693937/99693937]\r\n",
      "\r\n"
     ]
    }
   ],
   "source": [
    "!wget -nd https://github.com/JeffTrain/selfie/raw/master/shape_predictor_68_face_landmarks.dat"
   ]
  },
  {
   "cell_type": "markdown",
   "id": "a85036bb",
   "metadata": {
    "papermill": {
     "duration": 0.015249,
     "end_time": "2023-10-28T21:04:00.955785",
     "exception": false,
     "start_time": "2023-10-28T21:04:00.940536",
     "status": "completed"
    },
    "tags": []
   },
   "source": [
    "## Model"
   ]
  },
  {
   "cell_type": "code",
   "execution_count": 8,
   "id": "24cf1199",
   "metadata": {
    "execution": {
     "iopub.execute_input": "2023-10-28T21:04:00.987712Z",
     "iopub.status.busy": "2023-10-28T21:04:00.987388Z",
     "iopub.status.idle": "2023-10-28T21:04:02.773469Z",
     "shell.execute_reply": "2023-10-28T21:04:02.772392Z"
    },
    "papermill": {
     "duration": 1.804581,
     "end_time": "2023-10-28T21:04:02.775567",
     "exception": false,
     "start_time": "2023-10-28T21:04:00.970986",
     "status": "completed"
    },
    "tags": []
   },
   "outputs": [],
   "source": [
    "face_detector = dlib.get_frontal_face_detector()\n",
    "facelandmark = dlib.shape_predictor(\"/kaggle/working/shape_predictor_68_face_landmarks.dat\")"
   ]
  },
  {
   "cell_type": "code",
   "execution_count": 9,
   "id": "5eab4914",
   "metadata": {
    "execution": {
     "iopub.execute_input": "2023-10-28T21:04:02.807607Z",
     "iopub.status.busy": "2023-10-28T21:04:02.807314Z",
     "iopub.status.idle": "2023-10-28T21:04:02.812460Z",
     "shell.execute_reply": "2023-10-28T21:04:02.811630Z"
    },
    "papermill": {
     "duration": 0.023254,
     "end_time": "2023-10-28T21:04:02.814454",
     "exception": false,
     "start_time": "2023-10-28T21:04:02.791200",
     "status": "completed"
    },
    "tags": []
   },
   "outputs": [],
   "source": [
    "def left_eye(lm):\n",
    "    left_eye_centre_x = 0\n",
    "    left_eye_centre_y = 0\n",
    "    for i in range(42,48):\n",
    "        left_eye_centre_x += lm.part(i).x\n",
    "        left_eye_centre_y += lm.part(i).y\n",
    "    \n",
    "    return left_eye_centre_x/6 , left_eye_centre_y/6"
   ]
  },
  {
   "cell_type": "code",
   "execution_count": 10,
   "id": "0ae60b5a",
   "metadata": {
    "execution": {
     "iopub.execute_input": "2023-10-28T21:04:02.846361Z",
     "iopub.status.busy": "2023-10-28T21:04:02.846067Z",
     "iopub.status.idle": "2023-10-28T21:04:02.851060Z",
     "shell.execute_reply": "2023-10-28T21:04:02.850122Z"
    },
    "papermill": {
     "duration": 0.023496,
     "end_time": "2023-10-28T21:04:02.852977",
     "exception": false,
     "start_time": "2023-10-28T21:04:02.829481",
     "status": "completed"
    },
    "tags": []
   },
   "outputs": [],
   "source": [
    "def right_eye(lm):\n",
    "    right_eye_centre_x = 0\n",
    "    right_eye_centre_y = 0\n",
    "    for i in range(36,42):\n",
    "        right_eye_centre_x += lm.part(i).x\n",
    "        right_eye_centre_y += lm.part(i).y\n",
    "    \n",
    "    return right_eye_centre_x/6 , right_eye_centre_y/6"
   ]
  },
  {
   "cell_type": "code",
   "execution_count": 11,
   "id": "e9e53ff1",
   "metadata": {
    "execution": {
     "iopub.execute_input": "2023-10-28T21:04:02.885762Z",
     "iopub.status.busy": "2023-10-28T21:04:02.885497Z",
     "iopub.status.idle": "2023-10-28T21:04:02.901542Z",
     "shell.execute_reply": "2023-10-28T21:04:02.900444Z"
    },
    "papermill": {
     "duration": 0.034844,
     "end_time": "2023-10-28T21:04:02.903616",
     "exception": false,
     "start_time": "2023-10-28T21:04:02.868772",
     "status": "completed"
    },
    "tags": []
   },
   "outputs": [],
   "source": [
    "def feat(img, id):\n",
    "    faces = face_detector(img)\n",
    "    for face in faces:\n",
    "        face_landmarks = facelandmark(img, face)\n",
    "        \n",
    "        output.at[id, 'left_eye_center_x'], output.at[id, 'left_eye_center_y'] = left_eye(face_landmarks)\n",
    "        output.at[id, 'left_eye_inner_corner_x'], output.at[id, 'left_eye_inner_corner_y'] = face_landmarks.part(42).x, face_landmarks.part(42).y\n",
    "        output.at[id, 'left_eye_outer_corner_x'], output.at[id, 'left_eye_outer_corner_y'] = face_landmarks.part(45).x, face_landmarks.part(45).y\n",
    "        output.at[id, 'left_eyebrow_inner_end_x'], output.at[id, 'left_eyebrow_inner_end_y'] = face_landmarks.part(22).x, face_landmarks.part(22).y\n",
    "        output.at[id, 'left_eyebrow_outer_end_x'], output.at[id, 'left_eyebrow_outer_end_y'] = face_landmarks.part(26).x, face_landmarks.part(26).y\n",
    "        output.at[id, 'mouth_left_corner_x'], output.at[id, 'mouth_left_corner_y'] = face_landmarks.part(54).x, face_landmarks.part(54).y\n",
    "        \n",
    "        output.at[id, 'mouth_center_top_lip_x'], output.at[id, 'mouth_center_top_lip_y'] = (face_landmarks.part(51).x + face_landmarks.part(62).x)/2, (face_landmarks.part(51).y + face_landmarks.part(62).y)/2\n",
    "        output.at[id, 'mouth_center_bottom_lip_x'], output.at[id, 'mouth_center_bottom_lip_y'] = (face_landmarks.part(66).x + face_landmarks.part(57).x)/2, (face_landmarks.part(66).y + face_landmarks.part(57).y)/2\n",
    "        output.at[id, 'nose_tip_x'], output.at[id, 'nose_tip_y'] = face_landmarks.part(30).x, face_landmarks.part(30).y\n",
    "        \n",
    "        output.at[id, 'right_eye_center_x'], output.at[id, 'right_eye_center_y'] = right_eye(face_landmarks)\n",
    "        output.at[id, 'right_eye_inner_corner_x'], output.at[id, 'right_eye_inner_corner_y'] = face_landmarks.part(39).x, face_landmarks.part(39).y\n",
    "        output.at[id, 'right_eye_outer_corner_x'], output.at[id, 'right_eye_outer_corner_y'] = face_landmarks.part(36).x, face_landmarks.part(36).y\n",
    "        output.at[id, 'right_eyebrow_inner_end_x'], output.at[id, 'right_eyebrow_inner_end_y'] = face_landmarks.part(21).x, face_landmarks.part(21).y\n",
    "        output.at[id, 'right_eyebrow_outer_end_x'], output.at[id, 'right_eyebrow_outer_end_y'] = face_landmarks.part(17).x, face_landmarks.part(17).y\n",
    "        output.at[id, 'mouth_right_corner_x'], output.at[id, 'mouth_right_corner_y'] = face_landmarks.part(48).x, face_landmarks.part(48).y\n",
    "        \n",
    "        output.at[id, 'ID'] = id\n",
    "        \n",
    "#         for n in range(68):\n",
    "#             x = face_landmarks.part(n).x\n",
    "#             y = face_landmarks.part(n).y\n",
    "#             cv2.circle(img, (x, y), 3, (0, 255, 255), 1)\n",
    "#             plt.imshow(cv2.cvtColor(img, cv2.COLOR_BGR2RGB))\n",
    "#             plt.axis('off')\n",
    "#             plt.show()"
   ]
  },
  {
   "cell_type": "markdown",
   "id": "79918746",
   "metadata": {
    "papermill": {
     "duration": 0.060961,
     "end_time": "2023-10-28T21:04:02.980133",
     "exception": false,
     "start_time": "2023-10-28T21:04:02.919172",
     "status": "completed"
    },
    "tags": []
   },
   "source": [
    "## Image Interpretation"
   ]
  },
  {
   "cell_type": "code",
   "execution_count": 12,
   "id": "49ade1b7",
   "metadata": {
    "execution": {
     "iopub.execute_input": "2023-10-28T21:04:03.014128Z",
     "iopub.status.busy": "2023-10-28T21:04:03.013426Z",
     "iopub.status.idle": "2023-10-28T21:04:13.711500Z",
     "shell.execute_reply": "2023-10-28T21:04:13.710413Z"
    },
    "papermill": {
     "duration": 10.718098,
     "end_time": "2023-10-28T21:04:13.714199",
     "exception": false,
     "start_time": "2023-10-28T21:04:02.996101",
     "status": "completed"
    },
    "tags": []
   },
   "outputs": [],
   "source": [
    "for i in range(xtest.shape[0]):\n",
    "    input_string = xtest[\"Image\"][i]\n",
    "\n",
    "    numbers_str = input_string.split(\" \")\n",
    "    num_array = np.array([float(num) for num in numbers_str])\n",
    "\n",
    "    width = int(len(num_array)**0.5)\n",
    "    height = int(len(num_array)**0.5)\n",
    "\n",
    "    image_array = np.array(num_array).reshape(height, width)\n",
    "    image_array = np.array(image_array, dtype = 'uint8')\n",
    "    \n",
    "    feat(image_array, xtest[\"ID\"][i])"
   ]
  },
  {
   "cell_type": "code",
   "execution_count": 13,
   "id": "0efe0cbb",
   "metadata": {
    "execution": {
     "iopub.execute_input": "2023-10-28T21:04:13.748556Z",
     "iopub.status.busy": "2023-10-28T21:04:13.748016Z",
     "iopub.status.idle": "2023-10-28T21:04:13.752138Z",
     "shell.execute_reply": "2023-10-28T21:04:13.751296Z"
    },
    "papermill": {
     "duration": 0.023536,
     "end_time": "2023-10-28T21:04:13.754137",
     "exception": false,
     "start_time": "2023-10-28T21:04:13.730601",
     "status": "completed"
    },
    "tags": []
   },
   "outputs": [],
   "source": [
    "# To view any image and marked labels\n",
    "# plt.imshow(cv2.cvtColor(image_array, cv2.COLOR_BGR2RGB))\n",
    "# plt.axis('off')\n",
    "# plt.show()"
   ]
  },
  {
   "cell_type": "code",
   "execution_count": 14,
   "id": "bed2ad18",
   "metadata": {
    "execution": {
     "iopub.execute_input": "2023-10-28T21:04:13.787826Z",
     "iopub.status.busy": "2023-10-28T21:04:13.787128Z",
     "iopub.status.idle": "2023-10-28T21:04:13.820877Z",
     "shell.execute_reply": "2023-10-28T21:04:13.820233Z"
    },
    "papermill": {
     "duration": 0.051952,
     "end_time": "2023-10-28T21:04:13.822769",
     "exception": false,
     "start_time": "2023-10-28T21:04:13.770817",
     "status": "completed"
    },
    "tags": []
   },
   "outputs": [],
   "source": [
    "output.to_csv('submission.csv', index=False)"
   ]
  },
  {
   "cell_type": "markdown",
   "id": "c30b6a50",
   "metadata": {
    "papermill": {
     "duration": 0.014988,
     "end_time": "2023-10-28T21:04:13.853155",
     "exception": false,
     "start_time": "2023-10-28T21:04:13.838167",
     "status": "completed"
    },
    "tags": []
   },
   "source": [
    "## As the values in training sheet had all coordinate values < 96, ie the coordinates were reported from the 2D form of the image as an array. However, the sample_submission.csv file had coordinate values > 96 which suggest that values are reported from 1D representation of array. The submission.csv file has been formed considering the 2D form of array. In case we need the values in the form of 1D array, we just need to reshape the array and then report the values."
   ]
  },
  {
   "cell_type": "code",
   "execution_count": null,
   "id": "af8ff361",
   "metadata": {
    "papermill": {
     "duration": 0.014902,
     "end_time": "2023-10-28T21:04:13.883138",
     "exception": false,
     "start_time": "2023-10-28T21:04:13.868236",
     "status": "completed"
    },
    "tags": []
   },
   "outputs": [],
   "source": []
  }
 ],
 "metadata": {
  "kernelspec": {
   "display_name": "Python 3",
   "language": "python",
   "name": "python3"
  },
  "language_info": {
   "codemirror_mode": {
    "name": "ipython",
    "version": 3
   },
   "file_extension": ".py",
   "mimetype": "text/x-python",
   "name": "python",
   "nbconvert_exporter": "python",
   "pygments_lexer": "ipython3",
   "version": "3.10.12"
  },
  "papermill": {
   "default_parameters": {},
   "duration": 508.784257,
   "end_time": "2023-10-28T21:04:16.052053",
   "environment_variables": {},
   "exception": null,
   "input_path": "__notebook__.ipynb",
   "output_path": "__notebook__.ipynb",
   "parameters": {},
   "start_time": "2023-10-28T20:55:47.267796",
   "version": "2.4.0"
  }
 },
 "nbformat": 4,
 "nbformat_minor": 5
}
